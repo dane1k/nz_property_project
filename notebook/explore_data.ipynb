Where is the most expensive house in NZ?
What's the average data value people can afford the house?
What is the status for now in NZ (about cost of living)?