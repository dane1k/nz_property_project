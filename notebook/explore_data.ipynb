Where is the most expensive house in NZ?
What's the average data value people can afford the house?
What is the status for now in NZ (about cost of living)?


the thing is i need to make a project which is answering those questions for me, but idk how now :)
YOP